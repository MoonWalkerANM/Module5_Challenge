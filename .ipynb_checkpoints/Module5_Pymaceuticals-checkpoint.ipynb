{
 "cells": [
  {
   "cell_type": "markdown",
   "id": "24fa9461-5261-4ca2-90d9-b65f7169672f",
   "metadata": {},
   "source": [
    "# Pymaceuticals Inc.\n",
    "---\n",
    "\n",
    "### Analysis\n",
    "\n",
    "- Capomulin is better than Infubinol and Ceftamin since the final tumor volume rage is smaller than the latters when comparing the box plot for the treatment groups - Capomulin, Ramicane, Infubinol, Ceftamin and as good as Ramicane.\n",
    "The strong correlation can be seen between the mouse weight vs. the average observed tumor volume for the entire Capomulin regimen by looking at the scatter plot.\n",
    "The response of the treatment for the mouse id l509 shows that the best result can be seen around 35 days with the smallest tumor volume and the size increased again.\n",
    " "
   ]
  },
  {
   "cell_type": "code",
   "execution_count": 29,
   "id": "c5350ad0-e424-4843-8745-e0f2e50ecec0",
   "metadata": {},
   "outputs": [
    {
     "data": {
      "text/html": [
       "<div>\n",
       "<style scoped>\n",
       "    .dataframe tbody tr th:only-of-type {\n",
       "        vertical-align: middle;\n",
       "    }\n",
       "\n",
       "    .dataframe tbody tr th {\n",
       "        vertical-align: top;\n",
       "    }\n",
       "\n",
       "    .dataframe thead th {\n",
       "        text-align: right;\n",
       "    }\n",
       "</style>\n",
       "<table border=\"1\" class=\"dataframe\">\n",
       "  <thead>\n",
       "    <tr style=\"text-align: right;\">\n",
       "      <th></th>\n",
       "      <th>Mouse ID</th>\n",
       "      <th>Timepoint</th>\n",
       "      <th>Tumor Volume (mm3)</th>\n",
       "      <th>Metastatic Sites</th>\n",
       "      <th>Drug Regimen</th>\n",
       "      <th>Sex</th>\n",
       "      <th>Age_months</th>\n",
       "      <th>Weight (g)</th>\n",
       "    </tr>\n",
       "  </thead>\n",
       "  <tbody>\n",
       "    <tr>\n",
       "      <th>0</th>\n",
       "      <td>b128</td>\n",
       "      <td>0</td>\n",
       "      <td>45.0</td>\n",
       "      <td>0</td>\n",
       "      <td>Capomulin</td>\n",
       "      <td>Female</td>\n",
       "      <td>9</td>\n",
       "      <td>22</td>\n",
       "    </tr>\n",
       "    <tr>\n",
       "      <th>1</th>\n",
       "      <td>f932</td>\n",
       "      <td>0</td>\n",
       "      <td>45.0</td>\n",
       "      <td>0</td>\n",
       "      <td>Ketapril</td>\n",
       "      <td>Male</td>\n",
       "      <td>15</td>\n",
       "      <td>29</td>\n",
       "    </tr>\n",
       "    <tr>\n",
       "      <th>2</th>\n",
       "      <td>g107</td>\n",
       "      <td>0</td>\n",
       "      <td>45.0</td>\n",
       "      <td>0</td>\n",
       "      <td>Ketapril</td>\n",
       "      <td>Female</td>\n",
       "      <td>2</td>\n",
       "      <td>29</td>\n",
       "    </tr>\n",
       "    <tr>\n",
       "      <th>3</th>\n",
       "      <td>a457</td>\n",
       "      <td>0</td>\n",
       "      <td>45.0</td>\n",
       "      <td>0</td>\n",
       "      <td>Ketapril</td>\n",
       "      <td>Female</td>\n",
       "      <td>11</td>\n",
       "      <td>30</td>\n",
       "    </tr>\n",
       "    <tr>\n",
       "      <th>4</th>\n",
       "      <td>c819</td>\n",
       "      <td>0</td>\n",
       "      <td>45.0</td>\n",
       "      <td>0</td>\n",
       "      <td>Ketapril</td>\n",
       "      <td>Male</td>\n",
       "      <td>21</td>\n",
       "      <td>25</td>\n",
       "    </tr>\n",
       "  </tbody>\n",
       "</table>\n",
       "</div>"
      ],
      "text/plain": [
       "  Mouse ID  Timepoint  Tumor Volume (mm3)  Metastatic Sites Drug Regimen  \\\n",
       "0     b128          0                45.0                 0    Capomulin   \n",
       "1     f932          0                45.0                 0     Ketapril   \n",
       "2     g107          0                45.0                 0     Ketapril   \n",
       "3     a457          0                45.0                 0     Ketapril   \n",
       "4     c819          0                45.0                 0     Ketapril   \n",
       "\n",
       "      Sex  Age_months  Weight (g)  \n",
       "0  Female           9          22  \n",
       "1    Male          15          29  \n",
       "2  Female           2          29  \n",
       "3  Female          11          30  \n",
       "4    Male          21          25  "
      ]
     },
     "execution_count": 29,
     "metadata": {},
     "output_type": "execute_result"
    }
   ],
   "source": [
    "# Import dependencies\n",
    "import matplotlib.pyplot as plt\n",
    "import pandas as pd\n",
    "import scipy.stats as st\n",
    "from scipy.stats import sem\n",
    "\n",
    "\n",
    "# Set file path for study files\n",
    "mouse_metadata_path = \"data/Mouse_metadata.csv\"\n",
    "study_results_path = \"data/Study_results.csv\"\n",
    "\n",
    "# Read the mouse data and the study results\n",
    "mouse_metada = pd.read_csv(mouse_metadata_path)\n",
    "study_results = pd.read_csv(study_results_path)\n",
    "\n",
    "\n",
    "# Combine data from two files into a single DataFrame\n",
    "mouse_studyresults = pd.merge(study_results, mouse_metada, on=\"Mouse ID\", how='left')\n",
    "mouse_studyresults [\"Tumor Volume (mm3)\"] = mouse_studyresults [\"Tumor Volume (mm3)\"].round(2)\n",
    "#mouse_studyresults = mouse_studyresults.sort_values(by=\"Timepoint\")\n",
    "mouse_studyresults.head()\n"
   ]
  },
  {
   "cell_type": "code",
   "execution_count": 30,
   "id": "fe347a13-8c65-474e-bd22-472d3e1ad77b",
   "metadata": {},
   "outputs": [
    {
     "data": {
      "text/plain": [
       "249"
      ]
     },
     "execution_count": 30,
     "metadata": {},
     "output_type": "execute_result"
    }
   ],
   "source": [
    "# To get the nuber of mice\n",
    "mouse_studyresults[\"Mouse ID\"].nunique()\n"
   ]
  },
  {
   "cell_type": "code",
   "execution_count": 31,
   "id": "27883c58-2341-4adc-a40b-69c24e8d3d38",
   "metadata": {},
   "outputs": [
    {
     "data": {
      "text/plain": [
       "array(['g989'], dtype=object)"
      ]
     },
     "execution_count": 31,
     "metadata": {},
     "output_type": "execute_result"
    }
   ],
   "source": [
    "# To create data with Unique Mouse ID and Timepoint\n",
    "unique_mouse_studyresults = mouse_studyresults.drop_duplicates(subset=[\"Mouse ID\", \"Timepoint\"], keep=\"first\")\n",
    "unique_mouse_studyresults\n",
    "# Get the duplicate mice by ID number that shows up for Mouse ID and Timepoint. \n",
    "duplicate_mice=mouse_studyresults[mouse_studyresults.duplicated(subset=['Mouse ID', 'Timepoint'], keep=False)]\n",
    "duplicate_mice['Mouse ID'].unique() "
   ]
  },
  {
   "cell_type": "code",
   "execution_count": 32,
   "id": "f7d58b0d-1265-4407-829f-2f261d60f7b0",
   "metadata": {},
   "outputs": [
    {
     "data": {
      "text/html": [
       "<div>\n",
       "<style scoped>\n",
       "    .dataframe tbody tr th:only-of-type {\n",
       "        vertical-align: middle;\n",
       "    }\n",
       "\n",
       "    .dataframe tbody tr th {\n",
       "        vertical-align: top;\n",
       "    }\n",
       "\n",
       "    .dataframe thead th {\n",
       "        text-align: right;\n",
       "    }\n",
       "</style>\n",
       "<table border=\"1\" class=\"dataframe\">\n",
       "  <thead>\n",
       "    <tr style=\"text-align: right;\">\n",
       "      <th></th>\n",
       "      <th>Mouse ID</th>\n",
       "      <th>Timepoint</th>\n",
       "      <th>Tumor Volume (mm3)</th>\n",
       "      <th>Metastatic Sites</th>\n",
       "      <th>Drug Regimen</th>\n",
       "      <th>Sex</th>\n",
       "      <th>Age_months</th>\n",
       "      <th>Weight (g)</th>\n",
       "    </tr>\n",
       "  </thead>\n",
       "  <tbody>\n",
       "    <tr>\n",
       "      <th>107</th>\n",
       "      <td>g989</td>\n",
       "      <td>0</td>\n",
       "      <td>45.00</td>\n",
       "      <td>0</td>\n",
       "      <td>Propriva</td>\n",
       "      <td>Female</td>\n",
       "      <td>21</td>\n",
       "      <td>26</td>\n",
       "    </tr>\n",
       "    <tr>\n",
       "      <th>137</th>\n",
       "      <td>g989</td>\n",
       "      <td>0</td>\n",
       "      <td>45.00</td>\n",
       "      <td>0</td>\n",
       "      <td>Propriva</td>\n",
       "      <td>Female</td>\n",
       "      <td>21</td>\n",
       "      <td>26</td>\n",
       "    </tr>\n",
       "    <tr>\n",
       "      <th>329</th>\n",
       "      <td>g989</td>\n",
       "      <td>5</td>\n",
       "      <td>48.79</td>\n",
       "      <td>0</td>\n",
       "      <td>Propriva</td>\n",
       "      <td>Female</td>\n",
       "      <td>21</td>\n",
       "      <td>26</td>\n",
       "    </tr>\n",
       "    <tr>\n",
       "      <th>360</th>\n",
       "      <td>g989</td>\n",
       "      <td>5</td>\n",
       "      <td>47.57</td>\n",
       "      <td>0</td>\n",
       "      <td>Propriva</td>\n",
       "      <td>Female</td>\n",
       "      <td>21</td>\n",
       "      <td>26</td>\n",
       "    </tr>\n",
       "    <tr>\n",
       "      <th>620</th>\n",
       "      <td>g989</td>\n",
       "      <td>10</td>\n",
       "      <td>51.75</td>\n",
       "      <td>0</td>\n",
       "      <td>Propriva</td>\n",
       "      <td>Female</td>\n",
       "      <td>21</td>\n",
       "      <td>26</td>\n",
       "    </tr>\n",
       "    <tr>\n",
       "      <th>681</th>\n",
       "      <td>g989</td>\n",
       "      <td>10</td>\n",
       "      <td>49.88</td>\n",
       "      <td>0</td>\n",
       "      <td>Propriva</td>\n",
       "      <td>Female</td>\n",
       "      <td>21</td>\n",
       "      <td>26</td>\n",
       "    </tr>\n",
       "    <tr>\n",
       "      <th>815</th>\n",
       "      <td>g989</td>\n",
       "      <td>15</td>\n",
       "      <td>51.33</td>\n",
       "      <td>1</td>\n",
       "      <td>Propriva</td>\n",
       "      <td>Female</td>\n",
       "      <td>21</td>\n",
       "      <td>26</td>\n",
       "    </tr>\n",
       "    <tr>\n",
       "      <th>869</th>\n",
       "      <td>g989</td>\n",
       "      <td>15</td>\n",
       "      <td>53.44</td>\n",
       "      <td>0</td>\n",
       "      <td>Propriva</td>\n",
       "      <td>Female</td>\n",
       "      <td>21</td>\n",
       "      <td>26</td>\n",
       "    </tr>\n",
       "    <tr>\n",
       "      <th>950</th>\n",
       "      <td>g989</td>\n",
       "      <td>20</td>\n",
       "      <td>55.33</td>\n",
       "      <td>1</td>\n",
       "      <td>Propriva</td>\n",
       "      <td>Female</td>\n",
       "      <td>21</td>\n",
       "      <td>26</td>\n",
       "    </tr>\n",
       "    <tr>\n",
       "      <th>1111</th>\n",
       "      <td>g989</td>\n",
       "      <td>20</td>\n",
       "      <td>54.66</td>\n",
       "      <td>1</td>\n",
       "      <td>Propriva</td>\n",
       "      <td>Female</td>\n",
       "      <td>21</td>\n",
       "      <td>26</td>\n",
       "    </tr>\n",
       "    <tr>\n",
       "      <th>1195</th>\n",
       "      <td>g989</td>\n",
       "      <td>25</td>\n",
       "      <td>56.05</td>\n",
       "      <td>1</td>\n",
       "      <td>Propriva</td>\n",
       "      <td>Female</td>\n",
       "      <td>21</td>\n",
       "      <td>26</td>\n",
       "    </tr>\n",
       "    <tr>\n",
       "      <th>1380</th>\n",
       "      <td>g989</td>\n",
       "      <td>30</td>\n",
       "      <td>59.08</td>\n",
       "      <td>1</td>\n",
       "      <td>Propriva</td>\n",
       "      <td>Female</td>\n",
       "      <td>21</td>\n",
       "      <td>26</td>\n",
       "    </tr>\n",
       "    <tr>\n",
       "      <th>1592</th>\n",
       "      <td>g989</td>\n",
       "      <td>35</td>\n",
       "      <td>62.57</td>\n",
       "      <td>2</td>\n",
       "      <td>Propriva</td>\n",
       "      <td>Female</td>\n",
       "      <td>21</td>\n",
       "      <td>26</td>\n",
       "    </tr>\n",
       "  </tbody>\n",
       "</table>\n",
       "</div>"
      ],
      "text/plain": [
       "     Mouse ID  Timepoint  Tumor Volume (mm3)  Metastatic Sites Drug Regimen  \\\n",
       "107      g989          0               45.00                 0     Propriva   \n",
       "137      g989          0               45.00                 0     Propriva   \n",
       "329      g989          5               48.79                 0     Propriva   \n",
       "360      g989          5               47.57                 0     Propriva   \n",
       "620      g989         10               51.75                 0     Propriva   \n",
       "681      g989         10               49.88                 0     Propriva   \n",
       "815      g989         15               51.33                 1     Propriva   \n",
       "869      g989         15               53.44                 0     Propriva   \n",
       "950      g989         20               55.33                 1     Propriva   \n",
       "1111     g989         20               54.66                 1     Propriva   \n",
       "1195     g989         25               56.05                 1     Propriva   \n",
       "1380     g989         30               59.08                 1     Propriva   \n",
       "1592     g989         35               62.57                 2     Propriva   \n",
       "\n",
       "         Sex  Age_months  Weight (g)  \n",
       "107   Female          21          26  \n",
       "137   Female          21          26  \n",
       "329   Female          21          26  \n",
       "360   Female          21          26  \n",
       "620   Female          21          26  \n",
       "681   Female          21          26  \n",
       "815   Female          21          26  \n",
       "869   Female          21          26  \n",
       "950   Female          21          26  \n",
       "1111  Female          21          26  \n",
       "1195  Female          21          26  \n",
       "1380  Female          21          26  \n",
       "1592  Female          21          26  "
      ]
     },
     "execution_count": 32,
     "metadata": {},
     "output_type": "execute_result"
    }
   ],
   "source": [
    "# To get all data for the duplicate Mouse ID\n",
    "duplicate_mice_data = mouse_studyresults[mouse_studyresults['Mouse ID'].isin(duplicate_mice['Mouse ID'])]\n",
    "duplicate_mouse_ids=duplicate_mice_data['Mouse ID'].unique() \n",
    "duplicate_mice_data"
   ]
  },
  {
   "cell_type": "code",
   "execution_count": 33,
   "id": "9b318c74-9660-40fb-a81b-70ada1867668",
   "metadata": {},
   "outputs": [
    {
     "data": {
      "text/html": [
       "<div>\n",
       "<style scoped>\n",
       "    .dataframe tbody tr th:only-of-type {\n",
       "        vertical-align: middle;\n",
       "    }\n",
       "\n",
       "    .dataframe tbody tr th {\n",
       "        vertical-align: top;\n",
       "    }\n",
       "\n",
       "    .dataframe thead th {\n",
       "        text-align: right;\n",
       "    }\n",
       "</style>\n",
       "<table border=\"1\" class=\"dataframe\">\n",
       "  <thead>\n",
       "    <tr style=\"text-align: right;\">\n",
       "      <th></th>\n",
       "      <th>Mouse ID</th>\n",
       "      <th>Timepoint</th>\n",
       "      <th>Tumor Volume (mm3)</th>\n",
       "      <th>Metastatic Sites</th>\n",
       "      <th>Drug Regimen</th>\n",
       "      <th>Sex</th>\n",
       "      <th>Age_months</th>\n",
       "      <th>Weight (g)</th>\n",
       "    </tr>\n",
       "  </thead>\n",
       "  <tbody>\n",
       "    <tr>\n",
       "      <th>0</th>\n",
       "      <td>b128</td>\n",
       "      <td>0</td>\n",
       "      <td>45.0</td>\n",
       "      <td>0</td>\n",
       "      <td>Capomulin</td>\n",
       "      <td>Female</td>\n",
       "      <td>9</td>\n",
       "      <td>22</td>\n",
       "    </tr>\n",
       "    <tr>\n",
       "      <th>1</th>\n",
       "      <td>f932</td>\n",
       "      <td>0</td>\n",
       "      <td>45.0</td>\n",
       "      <td>0</td>\n",
       "      <td>Ketapril</td>\n",
       "      <td>Male</td>\n",
       "      <td>15</td>\n",
       "      <td>29</td>\n",
       "    </tr>\n",
       "    <tr>\n",
       "      <th>2</th>\n",
       "      <td>g107</td>\n",
       "      <td>0</td>\n",
       "      <td>45.0</td>\n",
       "      <td>0</td>\n",
       "      <td>Ketapril</td>\n",
       "      <td>Female</td>\n",
       "      <td>2</td>\n",
       "      <td>29</td>\n",
       "    </tr>\n",
       "    <tr>\n",
       "      <th>3</th>\n",
       "      <td>a457</td>\n",
       "      <td>0</td>\n",
       "      <td>45.0</td>\n",
       "      <td>0</td>\n",
       "      <td>Ketapril</td>\n",
       "      <td>Female</td>\n",
       "      <td>11</td>\n",
       "      <td>30</td>\n",
       "    </tr>\n",
       "    <tr>\n",
       "      <th>4</th>\n",
       "      <td>c819</td>\n",
       "      <td>0</td>\n",
       "      <td>45.0</td>\n",
       "      <td>0</td>\n",
       "      <td>Ketapril</td>\n",
       "      <td>Male</td>\n",
       "      <td>21</td>\n",
       "      <td>25</td>\n",
       "    </tr>\n",
       "  </tbody>\n",
       "</table>\n",
       "</div>"
      ],
      "text/plain": [
       "  Mouse ID  Timepoint  Tumor Volume (mm3)  Metastatic Sites Drug Regimen  \\\n",
       "0     b128          0                45.0                 0    Capomulin   \n",
       "1     f932          0                45.0                 0     Ketapril   \n",
       "2     g107          0                45.0                 0     Ketapril   \n",
       "3     a457          0                45.0                 0     Ketapril   \n",
       "4     c819          0                45.0                 0     Ketapril   \n",
       "\n",
       "      Sex  Age_months  Weight (g)  \n",
       "0  Female           9          22  \n",
       "1    Male          15          29  \n",
       "2  Female           2          29  \n",
       "3  Female          11          30  \n",
       "4    Male          21          25  "
      ]
     },
     "execution_count": 33,
     "metadata": {},
     "output_type": "execute_result"
    }
   ],
   "source": [
    "# To create a clean DataFrame with Unique Mouse ID \n",
    "\n",
    "mouse_no_dup_mouseid = unique_mouse_studyresults[~unique_mouse_studyresults['Mouse ID'].isin(duplicate_mouse_ids)]\n",
    "clean_mouse_studyresults = mouse_no_dup_mouseid[mouse_no_dup_mouseid['Mouse ID'].isin(duplicate_mouse_ids) == False]\n",
    "clean_mouse_studyresults.head()"
   ]
  },
  {
   "cell_type": "code",
   "execution_count": 34,
   "id": "26acd6ff-109f-406e-a81a-af2b4e3d4d1e",
   "metadata": {
    "scrolled": true
   },
   "outputs": [
    {
     "data": {
      "text/plain": [
       "248"
      ]
     },
     "execution_count": 34,
     "metadata": {},
     "output_type": "execute_result"
    }
   ],
   "source": [
    "# Checking the count of mice in the clean DataFrame\n",
    "clean_mouse_studyresults['Mouse ID'].nunique()"
   ]
  },
  {
   "cell_type": "markdown",
   "id": "ce537a01-b728-4b19-ab06-76dd2dd69786",
   "metadata": {},
   "source": [
    "## Summary Statistics"
   ]
  },
  {
   "cell_type": "code",
   "execution_count": 35,
   "id": "67bcf64e-1df6-4b51-94fc-e006c0f30e14",
   "metadata": {},
   "outputs": [
    {
     "data": {
      "text/html": [
       "<div>\n",
       "<style scoped>\n",
       "    .dataframe tbody tr th:only-of-type {\n",
       "        vertical-align: middle;\n",
       "    }\n",
       "\n",
       "    .dataframe tbody tr th {\n",
       "        vertical-align: top;\n",
       "    }\n",
       "\n",
       "    .dataframe thead th {\n",
       "        text-align: right;\n",
       "    }\n",
       "</style>\n",
       "<table border=\"1\" class=\"dataframe\">\n",
       "  <thead>\n",
       "    <tr style=\"text-align: right;\">\n",
       "      <th></th>\n",
       "      <th>Mean Tumor Volume</th>\n",
       "      <th>Median Tumor Volume</th>\n",
       "      <th>Tumor Volume Variance</th>\n",
       "      <th>Tumor Volume Std. Dev.</th>\n",
       "      <th>Tumor Volume Std. Err.</th>\n",
       "    </tr>\n",
       "    <tr>\n",
       "      <th>Drug Regimen</th>\n",
       "      <th></th>\n",
       "      <th></th>\n",
       "      <th></th>\n",
       "      <th></th>\n",
       "      <th></th>\n",
       "    </tr>\n",
       "  </thead>\n",
       "  <tbody>\n",
       "    <tr>\n",
       "      <th>Capomulin</th>\n",
       "      <td>40.675652</td>\n",
       "      <td>41.555</td>\n",
       "      <td>24.946279</td>\n",
       "      <td>4.994625</td>\n",
       "      <td>0.329336</td>\n",
       "    </tr>\n",
       "    <tr>\n",
       "      <th>Ceftamin</th>\n",
       "      <td>52.591011</td>\n",
       "      <td>51.775</td>\n",
       "      <td>39.288197</td>\n",
       "      <td>6.268030</td>\n",
       "      <td>0.469809</td>\n",
       "    </tr>\n",
       "    <tr>\n",
       "      <th>Infubinol</th>\n",
       "      <td>52.884663</td>\n",
       "      <td>51.820</td>\n",
       "      <td>43.130778</td>\n",
       "      <td>6.567403</td>\n",
       "      <td>0.492248</td>\n",
       "    </tr>\n",
       "    <tr>\n",
       "      <th>Ketapril</th>\n",
       "      <td>55.235745</td>\n",
       "      <td>53.700</td>\n",
       "      <td>68.555078</td>\n",
       "      <td>8.279799</td>\n",
       "      <td>0.603866</td>\n",
       "    </tr>\n",
       "    <tr>\n",
       "      <th>Naftisol</th>\n",
       "      <td>54.331720</td>\n",
       "      <td>52.505</td>\n",
       "      <td>66.173728</td>\n",
       "      <td>8.134724</td>\n",
       "      <td>0.596467</td>\n",
       "    </tr>\n",
       "    <tr>\n",
       "      <th>Placebo</th>\n",
       "      <td>54.033591</td>\n",
       "      <td>52.290</td>\n",
       "      <td>61.166371</td>\n",
       "      <td>7.820893</td>\n",
       "      <td>0.581322</td>\n",
       "    </tr>\n",
       "    <tr>\n",
       "      <th>Propriva</th>\n",
       "      <td>52.320743</td>\n",
       "      <td>50.445</td>\n",
       "      <td>43.850603</td>\n",
       "      <td>6.621979</td>\n",
       "      <td>0.544323</td>\n",
       "    </tr>\n",
       "    <tr>\n",
       "      <th>Ramicane</th>\n",
       "      <td>40.216974</td>\n",
       "      <td>40.675</td>\n",
       "      <td>23.487770</td>\n",
       "      <td>4.846418</td>\n",
       "      <td>0.320962</td>\n",
       "    </tr>\n",
       "    <tr>\n",
       "      <th>Stelasyn</th>\n",
       "      <td>54.233039</td>\n",
       "      <td>52.430</td>\n",
       "      <td>59.450545</td>\n",
       "      <td>7.710418</td>\n",
       "      <td>0.573111</td>\n",
       "    </tr>\n",
       "    <tr>\n",
       "      <th>Zoniferol</th>\n",
       "      <td>53.236209</td>\n",
       "      <td>51.820</td>\n",
       "      <td>48.531626</td>\n",
       "      <td>6.966464</td>\n",
       "      <td>0.516389</td>\n",
       "    </tr>\n",
       "  </tbody>\n",
       "</table>\n",
       "</div>"
      ],
      "text/plain": [
       "              Mean Tumor Volume  Median Tumor Volume  Tumor Volume Variance  \\\n",
       "Drug Regimen                                                                  \n",
       "Capomulin             40.675652               41.555              24.946279   \n",
       "Ceftamin              52.591011               51.775              39.288197   \n",
       "Infubinol             52.884663               51.820              43.130778   \n",
       "Ketapril              55.235745               53.700              68.555078   \n",
       "Naftisol              54.331720               52.505              66.173728   \n",
       "Placebo               54.033591               52.290              61.166371   \n",
       "Propriva              52.320743               50.445              43.850603   \n",
       "Ramicane              40.216974               40.675              23.487770   \n",
       "Stelasyn              54.233039               52.430              59.450545   \n",
       "Zoniferol             53.236209               51.820              48.531626   \n",
       "\n",
       "              Tumor Volume Std. Dev.  Tumor Volume Std. Err.  \n",
       "Drug Regimen                                                  \n",
       "Capomulin                   4.994625                0.329336  \n",
       "Ceftamin                    6.268030                0.469809  \n",
       "Infubinol                   6.567403                0.492248  \n",
       "Ketapril                    8.279799                0.603866  \n",
       "Naftisol                    8.134724                0.596467  \n",
       "Placebo                     7.820893                0.581322  \n",
       "Propriva                    6.621979                0.544323  \n",
       "Ramicane                    4.846418                0.320962  \n",
       "Stelasyn                    7.710418                0.573111  \n",
       "Zoniferol                   6.966464                0.516389  "
      ]
     },
     "execution_count": 35,
     "metadata": {},
     "output_type": "execute_result"
    }
   ],
   "source": [
    "# Generate a summary statistics table of mean, median, variance, standard deviation, and SEM of the tumor volume for each regimen\n",
    "\n",
    "# Use groupby and summary statistical methods to calculate the following properties of each drug regimen: \n",
    "grouped_data = clean_mouse_studyresults.groupby('Drug Regimen')['Tumor Volume (mm3)']\n",
    "# mean, median, variance, standard deviation, and SEM of the tumor volume.\n",
    "average_tumor_volume = grouped_data.mean()\n",
    "median_tumor_volume = grouped_data.median()\n",
    "variance_tumor_volume = grouped_data.var()\n",
    "stddev_tumor_volume = grouped_data.std()\n",
    "sem_tumor_volume = grouped_data.apply(sem)\n",
    "\n",
    "\n",
    "# Assemble the resulting series into a single summary DataFrame.\n",
    "summary_statistics  = pd.DataFrame({\n",
    "    \"Mean Tumor Volume\": average_tumor_volume,\n",
    "    \"Median Tumor Volume\": median_tumor_volume,\n",
    "    \"Tumor Volume Variance\": variance_tumor_volume,\n",
    "    \"Tumor Volume Std. Dev.\": stddev_tumor_volume,\n",
    "    \"Tumor Volume Std. Err.\": sem_tumor_volume\n",
    "})\n",
    "\n",
    "summary_statistics"
   ]
  },
  {
   "cell_type": "code",
   "execution_count": 36,
   "id": "d9938011-0b7d-483b-9270-d87f77c2a482",
   "metadata": {},
   "outputs": [
    {
     "data": {
      "text/html": [
       "<style type=\"text/css\">\n",
       "#T_2dcb9 caption {\n",
       "  font-weight: bold;\n",
       "  text-align: right;\n",
       "}\n",
       "</style>\n",
       "<table id=\"T_2dcb9\">\n",
       "  <caption>Tumor Volume (mm3)</caption>\n",
       "  <thead>\n",
       "    <tr>\n",
       "      <th class=\"blank level0\" >&nbsp;</th>\n",
       "      <th id=\"T_2dcb9_level0_col0\" class=\"col_heading level0 col0\" >mean</th>\n",
       "      <th id=\"T_2dcb9_level0_col1\" class=\"col_heading level0 col1\" >median</th>\n",
       "      <th id=\"T_2dcb9_level0_col2\" class=\"col_heading level0 col2\" >var</th>\n",
       "      <th id=\"T_2dcb9_level0_col3\" class=\"col_heading level0 col3\" >std</th>\n",
       "      <th id=\"T_2dcb9_level0_col4\" class=\"col_heading level0 col4\" >sem</th>\n",
       "    </tr>\n",
       "    <tr>\n",
       "      <th class=\"index_name level0\" >Drug Regimen</th>\n",
       "      <th class=\"blank col0\" >&nbsp;</th>\n",
       "      <th class=\"blank col1\" >&nbsp;</th>\n",
       "      <th class=\"blank col2\" >&nbsp;</th>\n",
       "      <th class=\"blank col3\" >&nbsp;</th>\n",
       "      <th class=\"blank col4\" >&nbsp;</th>\n",
       "    </tr>\n",
       "  </thead>\n",
       "  <tbody>\n",
       "    <tr>\n",
       "      <th id=\"T_2dcb9_level0_row0\" class=\"row_heading level0 row0\" >Capomulin</th>\n",
       "      <td id=\"T_2dcb9_row0_col0\" class=\"data row0 col0\" >40.675652</td>\n",
       "      <td id=\"T_2dcb9_row0_col1\" class=\"data row0 col1\" >41.555000</td>\n",
       "      <td id=\"T_2dcb9_row0_col2\" class=\"data row0 col2\" >24.946279</td>\n",
       "      <td id=\"T_2dcb9_row0_col3\" class=\"data row0 col3\" >4.994625</td>\n",
       "      <td id=\"T_2dcb9_row0_col4\" class=\"data row0 col4\" >0.329336</td>\n",
       "    </tr>\n",
       "    <tr>\n",
       "      <th id=\"T_2dcb9_level0_row1\" class=\"row_heading level0 row1\" >Ceftamin</th>\n",
       "      <td id=\"T_2dcb9_row1_col0\" class=\"data row1 col0\" >52.591011</td>\n",
       "      <td id=\"T_2dcb9_row1_col1\" class=\"data row1 col1\" >51.775000</td>\n",
       "      <td id=\"T_2dcb9_row1_col2\" class=\"data row1 col2\" >39.288197</td>\n",
       "      <td id=\"T_2dcb9_row1_col3\" class=\"data row1 col3\" >6.268030</td>\n",
       "      <td id=\"T_2dcb9_row1_col4\" class=\"data row1 col4\" >0.469809</td>\n",
       "    </tr>\n",
       "    <tr>\n",
       "      <th id=\"T_2dcb9_level0_row2\" class=\"row_heading level0 row2\" >Infubinol</th>\n",
       "      <td id=\"T_2dcb9_row2_col0\" class=\"data row2 col0\" >52.884663</td>\n",
       "      <td id=\"T_2dcb9_row2_col1\" class=\"data row2 col1\" >51.820000</td>\n",
       "      <td id=\"T_2dcb9_row2_col2\" class=\"data row2 col2\" >43.130778</td>\n",
       "      <td id=\"T_2dcb9_row2_col3\" class=\"data row2 col3\" >6.567403</td>\n",
       "      <td id=\"T_2dcb9_row2_col4\" class=\"data row2 col4\" >0.492248</td>\n",
       "    </tr>\n",
       "    <tr>\n",
       "      <th id=\"T_2dcb9_level0_row3\" class=\"row_heading level0 row3\" >Ketapril</th>\n",
       "      <td id=\"T_2dcb9_row3_col0\" class=\"data row3 col0\" >55.235745</td>\n",
       "      <td id=\"T_2dcb9_row3_col1\" class=\"data row3 col1\" >53.700000</td>\n",
       "      <td id=\"T_2dcb9_row3_col2\" class=\"data row3 col2\" >68.555078</td>\n",
       "      <td id=\"T_2dcb9_row3_col3\" class=\"data row3 col3\" >8.279799</td>\n",
       "      <td id=\"T_2dcb9_row3_col4\" class=\"data row3 col4\" >0.603866</td>\n",
       "    </tr>\n",
       "    <tr>\n",
       "      <th id=\"T_2dcb9_level0_row4\" class=\"row_heading level0 row4\" >Naftisol</th>\n",
       "      <td id=\"T_2dcb9_row4_col0\" class=\"data row4 col0\" >54.331720</td>\n",
       "      <td id=\"T_2dcb9_row4_col1\" class=\"data row4 col1\" >52.505000</td>\n",
       "      <td id=\"T_2dcb9_row4_col2\" class=\"data row4 col2\" >66.173728</td>\n",
       "      <td id=\"T_2dcb9_row4_col3\" class=\"data row4 col3\" >8.134724</td>\n",
       "      <td id=\"T_2dcb9_row4_col4\" class=\"data row4 col4\" >0.596467</td>\n",
       "    </tr>\n",
       "    <tr>\n",
       "      <th id=\"T_2dcb9_level0_row5\" class=\"row_heading level0 row5\" >Placebo</th>\n",
       "      <td id=\"T_2dcb9_row5_col0\" class=\"data row5 col0\" >54.033591</td>\n",
       "      <td id=\"T_2dcb9_row5_col1\" class=\"data row5 col1\" >52.290000</td>\n",
       "      <td id=\"T_2dcb9_row5_col2\" class=\"data row5 col2\" >61.166371</td>\n",
       "      <td id=\"T_2dcb9_row5_col3\" class=\"data row5 col3\" >7.820893</td>\n",
       "      <td id=\"T_2dcb9_row5_col4\" class=\"data row5 col4\" >0.581322</td>\n",
       "    </tr>\n",
       "    <tr>\n",
       "      <th id=\"T_2dcb9_level0_row6\" class=\"row_heading level0 row6\" >Propriva</th>\n",
       "      <td id=\"T_2dcb9_row6_col0\" class=\"data row6 col0\" >52.320743</td>\n",
       "      <td id=\"T_2dcb9_row6_col1\" class=\"data row6 col1\" >50.445000</td>\n",
       "      <td id=\"T_2dcb9_row6_col2\" class=\"data row6 col2\" >43.850603</td>\n",
       "      <td id=\"T_2dcb9_row6_col3\" class=\"data row6 col3\" >6.621979</td>\n",
       "      <td id=\"T_2dcb9_row6_col4\" class=\"data row6 col4\" >0.544323</td>\n",
       "    </tr>\n",
       "    <tr>\n",
       "      <th id=\"T_2dcb9_level0_row7\" class=\"row_heading level0 row7\" >Ramicane</th>\n",
       "      <td id=\"T_2dcb9_row7_col0\" class=\"data row7 col0\" >40.216974</td>\n",
       "      <td id=\"T_2dcb9_row7_col1\" class=\"data row7 col1\" >40.675000</td>\n",
       "      <td id=\"T_2dcb9_row7_col2\" class=\"data row7 col2\" >23.487770</td>\n",
       "      <td id=\"T_2dcb9_row7_col3\" class=\"data row7 col3\" >4.846418</td>\n",
       "      <td id=\"T_2dcb9_row7_col4\" class=\"data row7 col4\" >0.320962</td>\n",
       "    </tr>\n",
       "    <tr>\n",
       "      <th id=\"T_2dcb9_level0_row8\" class=\"row_heading level0 row8\" >Stelasyn</th>\n",
       "      <td id=\"T_2dcb9_row8_col0\" class=\"data row8 col0\" >54.233039</td>\n",
       "      <td id=\"T_2dcb9_row8_col1\" class=\"data row8 col1\" >52.430000</td>\n",
       "      <td id=\"T_2dcb9_row8_col2\" class=\"data row8 col2\" >59.450545</td>\n",
       "      <td id=\"T_2dcb9_row8_col3\" class=\"data row8 col3\" >7.710418</td>\n",
       "      <td id=\"T_2dcb9_row8_col4\" class=\"data row8 col4\" >0.573111</td>\n",
       "    </tr>\n",
       "    <tr>\n",
       "      <th id=\"T_2dcb9_level0_row9\" class=\"row_heading level0 row9\" >Zoniferol</th>\n",
       "      <td id=\"T_2dcb9_row9_col0\" class=\"data row9 col0\" >53.236209</td>\n",
       "      <td id=\"T_2dcb9_row9_col1\" class=\"data row9 col1\" >51.820000</td>\n",
       "      <td id=\"T_2dcb9_row9_col2\" class=\"data row9 col2\" >48.531626</td>\n",
       "      <td id=\"T_2dcb9_row9_col3\" class=\"data row9 col3\" >6.966464</td>\n",
       "      <td id=\"T_2dcb9_row9_col4\" class=\"data row9 col4\" >0.516389</td>\n",
       "    </tr>\n",
       "  </tbody>\n",
       "</table>\n"
      ],
      "text/plain": [
       "<pandas.io.formats.style.Styler at 0x2136da55b70>"
      ]
     },
     "execution_count": 36,
     "metadata": {},
     "output_type": "execute_result"
    }
   ],
   "source": [
    "# using agreegation method\n",
    "summary_statistics = grouped_data.agg(['mean', 'median', 'var', 'std', 'sem'])\n",
    "\n",
    "# Create the DataFrame format\n",
    "styled_summary = summary_statistics.style.set_table_styles([{'selector': 'th','props': [('text-align', 'right'), ('font-weight', 'bold')]}])\n",
    "\n",
    "# to display the DataFrame with bold title with right aligned\n",
    "styled_summary.set_caption(\"Tumor Volume (mm3)\").set_table_styles([{'selector': 'caption','props': [('font-weight', 'bold'), ('text-align', 'right')]}])"
   ]
  },
  {
   "cell_type": "markdown",
   "id": "a8f8a402-d25b-4401-9e08-d984d4538545",
   "metadata": {},
   "source": [
    "<span style=\"font-size: 20px;\"><b>Bar and Pie Charts</b></span>"
   ]
  },
  {
   "cell_type": "code",
   "execution_count": 37,
   "id": "235bc378-e79d-4526-84bf-d957ec82d885",
   "metadata": {},
   "outputs": [
    {
     "data": {
      "image/png": "[encoded data removed]",
      "text/plain": [
       "<Figure size 700x500 with 1 Axes>"
      ]
     },
     "metadata": {},
     "output_type": "display_data"
    }
   ],
   "source": [
    "# create bar chart using pandas for the total number of rows (Mouse ID/Timepoints) for each drug regimen\n",
    "grouped_data = mouse_studyresults.groupby('Drug Regimen').size()\n",
    "grouped_data2=grouped_data.sort_values(ascending=False)\n",
    "grouped_data2.plot(kind='bar', color=\"royalblue\", figsize=(7, 5), xlabel='Drug Regimen', ylabel='# of Observed Mouse Timepoints')\n",
    "\n",
    "# Show the plot\n",
    "plt.show()"
   ]
  },
  {
   "cell_type": "code",
   "execution_count": 38,
   "id": "de3c721d-a64b-49c7-ac33-80bb85e9d8c1",
   "metadata": {},
   "outputs": [
    {
     "data": {
      "image/png": "[encoded data removed]",
      "text/plain": [
       "<Figure size 700x500 with 1 Axes>"
      ]
     },
     "metadata": {},
     "output_type": "display_data"
    }
   ],
   "source": [
    "# create bar chart using pyplot for the total number of rows (Mouse ID/Timepoints) for each drug regimen\n",
    " \n",
    "plt.figure(figsize=(7,5))\n",
    "plt.bar(grouped_data2.index, grouped_data2, color = \"royalblue\")\n",
    "plt.xticks(rotation=90)\n",
    "# add lables \n",
    "plt.xlabel(\"Drug Regimen\")\n",
    "plt.ylabel(\"# of Observed Mouse Timepoints\")\n",
    "\n",
    "#show the plot\n",
    "plt.show()\n"
   ]
  },
  {
   "cell_type": "code",
   "execution_count": 39,
   "id": "012686cf-4471-4ce9-ab0a-3c1cf8645537",
   "metadata": {},
   "outputs": [
    {
     "data": {
      "image/png": "[encoded data removed]",
      "text/plain": [
       "<Figure size 640x480 with 1 Axes>"
      ]
     },
     "metadata": {},
     "output_type": "display_data"
    }
   ],
   "source": [
    "# Create pie chart using pandas for distribution of female vs. male\n",
    "sex_counts = clean_mouse_studyresults['Sex'].value_counts()\n",
    "sex_counts.plot(kind='pie', autopct='%1.1f%%', startangle=0, colors=['royalblue', 'darkorange'])\n",
    "plt.ylabel(\"Sex\")\n",
    "plt.show()"
   ]
  },
  {
   "cell_type": "code",
   "execution_count": 40,
   "id": "11f271c9-f897-46bd-8082-19960521dff2",
   "metadata": {},
   "outputs": [
    {
     "data": {
      "image/png": "[encoded data removed]",
      "text/plain": [
       "<Figure size 640x480 with 1 Axes>"
      ]
     },
     "metadata": {},
     "output_type": "display_data"
    }
   ],
   "source": [
    "# Create pie chart using pyplot for distribution of female vs. male\n",
    "plt.pie(sex_counts, labels=sex_counts.index, autopct='%1.1f%%', startangle=0, colors=['royalblue', 'darkorange'])\n",
    "plt.ylabel(\"Sex\")\n",
    "plt.show()"
   ]
  },
  {
   "cell_type": "markdown",
   "id": "d2c05643-9413-4324-b307-9d7e2cc28999",
   "metadata": {},
   "source": [
    "## Quartiles, Outliers and Boxplots"
   ]
  },
  {
   "cell_type": "code",
   "execution_count": 41,
   "id": "949ce0e8-087d-46f7-a989-d7b5509b7a14",
   "metadata": {},
   "outputs": [],
   "source": [
    "# Calculate the final tumor volume of each mouse across four of the treatment regimens:  \n",
    "# Capomulin, Ramicane, Infubinol, and Ceftamin\n",
    "treatments = ['Capomulin', 'Ramicane', 'Infubinol', 'Ceftamin']\n",
    "Treatment_data = clean_mouse_studyresults[clean_mouse_studyresults['Drug Regimen'].isin(treatments)]\n",
    "# Start by getting the last (greatest) timepoint for each mouse\n",
    "final_timepoint=clean_mouse_studyresults.groupby('Mouse ID')['Timepoint'].max()\n",
    "\n",
    "# Merge this group df with the original DataFrame to get the tumor volume at the last timepoint\n",
    "#final_tumor_vol = pd.merge(final_timepoint, Treatment_data, on=['Mouse ID', 'Timepoint'])\n",
    "final_tumor_vol = pd.merge(final_timepoint, clean_mouse_studyresults, on=['Mouse ID', 'Timepoint'])"
   ]
  },
  {
   "cell_type": "code",
   "execution_count": 42,
   "id": "30d659a2-dbcc-4890-ad91-3aac8884572e",
   "metadata": {},
   "outputs": [
    {
     "name": "stdout",
     "output_type": "stream",
     "text": [
      "Capomulin's potential outliers: Series([], Name: Tumor Volume (mm3), dtype: float64)\n",
      "Ramicane's potential outliers: Series([], Name: Tumor Volume (mm3), dtype: float64)\n",
      "Infubinol's potential outliers: 31    36.32\n",
      "Name: Tumor Volume (mm3), dtype: float64\n",
      "Ceftamin's potential outliers: Series([], Name: Tumor Volume (mm3), dtype: float64)\n"
     ]
    }
   ],
   "source": [
    "# Put treatments into a list for for loop (and later for plot labels)\n",
    "treatments = ['Capomulin', 'Ramicane', 'Infubinol', 'Ceftamin']\n",
    "# Create empty list to fill with tumor vol data (for plotting)\n",
    "tumor_vol_data = []\n",
    "for treatment in treatments:\n",
    "    tumor_vol_data.append(final_tumor_vol[final_tumor_vol['Drug Regimen'] == treatment]['Tumor Volume (mm3)'])\n",
    "\n",
    "# Calculate the IQR and quantitatively determine if there are any potential outliers. \n",
    "for treatment in treatments:\n",
    "    treatment_data = final_tumor_vol[final_tumor_vol['Drug Regimen'] == treatment]['Tumor Volume (mm3)']\n",
    "    quartiles = treatment_data.quantile([0.25, 0.75])\n",
    "    Q1 = quartiles[0.25]\n",
    "    Q3 = quartiles[0.75]\n",
    "    IQR = Q3 - Q1\n",
    "    lower_bound = Q1 - 1.5 * IQR\n",
    "    upper_bound = Q3 + 1.5 * IQR\n",
    "    \n",
    "    # Determine potential outliers\n",
    "    outliers = treatment_data[(treatment_data < lower_bound) | (treatment_data > upper_bound)]\n",
    "    \n",
    "    # Print or store the outliers as needed\n",
    "    print(f\"{treatment}'s potential outliers: {outliers}\")"
   ]
  },
  {
   "cell_type": "code",
   "execution_count": 43,
   "id": "9c17a78c-a2f5-40f0-b06d-bee36630ea01",
   "metadata": {},
   "outputs": [
    {
     "data": {
      "image/png": "[encoded data removed]",
      "text/plain": [
       "<Figure size 640x480 with 1 Axes>"
      ]
     },
     "metadata": {},
     "output_type": "display_data"
    }
   ],
   "source": [
    "# Generate a box plot that shows the distrubution of the tumor volume for each treatment group.\n",
    "# Create a figure and axis\n",
    "fig, ax = plt.subplots()\n",
    "\n",
    "# Create a box plot for each treatment group\n",
    "boxplot_data = [final_tumor_vol[final_tumor_vol['Drug Regimen'] == treatment]['Tumor Volume (mm3)'].values for treatment in ['Capomulin', 'Ramicane', 'Infubinol', 'Ceftamin']]\n",
    "\n",
    "# Plot the box plot\n",
    "ax.boxplot(boxplot_data)\n",
    "\n",
    "# Set labels and title\n",
    "ax.set_xticklabels(['Capomulin', 'Ramicane', 'Infubinol', 'Ceftamin'])\n",
    "ax.set_ylabel('Final Tumor Volume (mm3)')\n",
    "\n",
    "\n",
    "# Show the plot\n",
    "plt.show()"
   ]
  },
  {
   "cell_type": "markdown",
   "id": "7c27d171-9eed-4bff-ab99-afac9e9c5e9b",
   "metadata": {},
   "source": [
    "## Line and Scatter Plots"
   ]
  },
  {
   "cell_type": "code",
   "execution_count": 44,
   "id": "dd67f851-4839-43a4-8031-b12b94e21add",
   "metadata": {},
   "outputs": [
    {
     "data": {
      "image/png": "[encoded data removed]",
      "text/plain": [
       "<Figure size 700x500 with 1 Axes>"
      ]
     },
     "metadata": {},
     "output_type": "display_data"
    }
   ],
   "source": [
    "# Create the dataset for mice treated with Capomulin\n",
    "capomulin_data = clean_mouse_studyresults[clean_mouse_studyresults['Drug Regimen'] == 'Capomulin']\n",
    "\n",
    "# Choose a single mouse ID\n",
    "selected_mouse = 'l509' \n",
    "\n",
    "# Filter the data for the selected mouse\n",
    "selected_mouse_data = capomulin_data[capomulin_data['Mouse ID'] == selected_mouse]\n",
    "\n",
    "# Create a line plot for tumor volume vs. time point\n",
    "plt.figure(figsize=(7, 5))\n",
    "plt.plot(selected_mouse_data['Timepoint'], selected_mouse_data['Tumor Volume (mm3)'], color='royalblue')\n",
    "plt.xlabel('Timepoint(days)')\n",
    "plt.ylabel('Tumor Volume (mm3)')\n",
    "plt.title(f'Capomulin treatment of mouse {selected_mouse}')\n",
    "plt.show()"
   ]
  },
  {
   "cell_type": "code",
   "execution_count": 45,
   "id": "aa78f8dd-f948-4679-ba9d-3afafba25141",
   "metadata": {},
   "outputs": [],
   "source": [
    "capomulin_avg_data = clean_mouse_studyresults[clean_mouse_studyresults['Drug Regimen'] == 'Capomulin']"
   ]
  },
  {
   "cell_type": "code",
   "execution_count": 46,
   "id": "37318a21-0a74-4563-86c1-aab734bced2c",
   "metadata": {},
   "outputs": [
    {
     "data": {
      "image/png": "[encoded data removed]",
      "text/plain": [
       "<Figure size 700x500 with 1 Axes>"
      ]
     },
     "metadata": {},
     "output_type": "display_data"
    }
   ],
   "source": [
    "# Generate a scatter plot of mouse weight vs. the average observed tumor volume for the entire Capomulin regimen\n",
    "# calculate the average tumor volume and mouse weight for each mouse\n",
    "avg_data = capomulin_data.groupby('Mouse ID').agg({'Weight (g)': 'mean', 'Tumor Volume (mm3)': 'mean'})\n",
    "\n",
    "# create a scatter plot\n",
    "plt.figure(figsize=(7,5))\n",
    "plt.scatter(avg_data['Weight (g)'], avg_data['Tumor Volume (mm3)'], color='royalblue', alpha=0.7)\n",
    "plt.xlabel('Weight (g)')\n",
    "plt.ylabel('Average Tumor Volume (mm3)')\n",
    "plt.show()\n"
   ]
  },
  {
   "cell_type": "markdown",
   "id": "b235c339-a0c3-475c-9823-f88ed2fd5939",
   "metadata": {},
   "source": [
    "## Correlation and Regression"
   ]
  },
  {
   "cell_type": "code",
   "execution_count": 21,
   "id": "ed0f7505-ea4f-44c5-a786-0aefb8e65c54",
   "metadata": {},
   "outputs": [
    {
     "name": "stdout",
     "output_type": "stream",
     "text": [
      "The correlation between mouse weight and the average tumor volume is 0.84\n"
     ]
    },
    {
     "data": {
      "image/png": "[encoded data removed]",
      "text/plain": [
       "<Figure size 700x500 with 1 Axes>"
      ]
     },
     "metadata": {},
     "output_type": "display_data"
    }
   ],
   "source": [
    "# Calculate the correlation coefficient and a linear regression model \n",
    "correlation = st.pearsonr(avg_data['Weight (g)'], avg_data['Tumor Volume (mm3)'])\n",
    "print(f'The correlation between mouse weight and the average tumor volume is {round(correlation[0],2)}')\n",
    "\n",
    "x_values = avg_data['Weight (g)']\n",
    "y_values = avg_data['Tumor Volume (mm3)']\n",
    "(slope, intercept, rvalue, pvalue, stderr) = st.linregress(x_values, y_values)\n",
    "regress_values = x_values * slope + intercept\n",
    "line_eq = \"y = \" + str(round(slope,2)) + \"x + \" + str(round(intercept,2))\n",
    "\n",
    "\n",
    "plt.figure(figsize=(7,5))\n",
    "plt.scatter(x_values,y_values, color='royalblue', alpha=0.7)\n",
    "plt.plot(x_values,regress_values,\"r-\")\n",
    "plt.annotate(line_eq,(0,50),fontsize=15,color=\"red\")\n",
    "plt.xlabel('Weight (g)')\n",
    "plt.ylabel('Average Tumor Volume (mm3)')\n",
    "plt.show()\n",
    "\n"
   ]
  },
  {
   "cell_type": "code",
   "execution_count": null,
   "id": "48aa4acf-6bf2-4956-8dea-734c12898d96",
   "metadata": {},
   "outputs": [],
   "source": []
  }
 ],
 "metadata": {
  "kernelspec": {
   "display_name": "Python 3 (ipykernel)",
   "language": "python",
   "name": "python3"
  },
  "language_info": {
   "codemirror_mode": {
    "name": "ipython",
    "version": 3
   },
   "file_extension": ".py",
   "mimetype": "text/x-python",
   "name": "python",
   "nbconvert_exporter": "python",
   "pygments_lexer": "ipython3",
   "version": "3.10.14"
  }
 },
 "nbformat": 4,
 "nbformat_minor": 5
}
